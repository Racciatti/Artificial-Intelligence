{
 "cells": [
  {
   "cell_type": "code",
   "execution_count": null,
   "id": "df8a8e5a",
   "metadata": {},
   "outputs": [],
   "source": [
    "from random import randrange\n",
    "\n",
    "# only works with 2d for now!\n",
    "def kmeans(points:list[tuple], n_clusters:int):\n",
    "    \"\"\"\n",
    "    Takes a list of n points and the number of desired clusters k\n",
    "    Returns the centroids\n",
    "    \"\"\"\n",
    "\n",
    "    # Get the min and max values of the existing data points\n",
    "    x_min = 10000000\n",
    "    x_max = -10000000\n",
    "    y_min = 10000000\n",
    "    y_max = -10000000\n",
    "\n",
    "    for point in points:\n",
    "        x_min = point[0] if point[0] < x_min else x_min\n",
    "        x_max = point[0] if point[0] > x_max else x_max\n",
    "        y_min = point[1] if point[1] < y_min else y_min\n",
    "        y_max = point[1] if point[1] > y_max else y_max\n",
    "    \n",
    "    centroids = [(randrange(x_min,x_max), randrange(y_min,y_max) for _ in range(n_clusters))]\n",
    "\n",
    "    # Associate each point to a centroid\n",
    "\n",
    "    # Update the centroid's location\n",
    "\n",
    "    # Repeat until the centroids no longer update \n"
   ]
  },
  {
   "cell_type": "code",
   "execution_count": null,
   "id": "fb481f92",
   "metadata": {},
   "outputs": [
    {
     "name": "stdout",
     "output_type": "stream",
     "text": [
      "-10 -200 50 100\n"
     ]
    }
   ],
   "source": []
  }
 ],
 "metadata": {
  "kernelspec": {
   "display_name": "venv (3.12.11)",
   "language": "python",
   "name": "python3"
  },
  "language_info": {
   "codemirror_mode": {
    "name": "ipython",
    "version": 3
   },
   "file_extension": ".py",
   "mimetype": "text/x-python",
   "name": "python",
   "nbconvert_exporter": "python",
   "pygments_lexer": "ipython3",
   "version": "3.12.11"
  }
 },
 "nbformat": 4,
 "nbformat_minor": 5
}
